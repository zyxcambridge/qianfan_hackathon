{
 "cells": [
  {
   "cell_type": "markdown",
   "metadata": {},
   "source": [
    "## 附2 将大模型 API 封装成本地 API"
   ]
  },
  {
   "cell_type": "markdown",
   "metadata": {},
   "source": [
    "目前，大模型正方兴未艾，各领域、厂家、架构的大模型层出不穷，有支持本地微调、部署的开源大模型，也有提供 Web 及 API 服务的通用大模型。不同的大模型往往有着不同的调用方式及参数，例如，讯飞星火认知大模型需要使用 websocket 连接来调用，同直接使用 request 调用的百度文心、ChatGPT 等存在显著差异。对于不同调用方式的模型，如果不能统一调用，就需要在程序代码中增加很多复杂的业务逻辑、调用细节，增加了程序开发的工作量，也增加了出现 Bug 的概率。\n",
    "\n",
    "我们可以使用 FastAPI，对不同的大模型 API 再进行一层封装，将其映射到本地接口上，从而通过统一的方式来调用本地接口实现不同大模型的调用。通过这样的手段，可以极大程度减少对于模型调用的工作量和复杂度。\n",
    "\n",
    "在本章中，我们以讯飞星火大模型 API 为例，讲解如何将通用大模型 API 封装成本地 API，从而实现同一方式的 API 调用。\n",
    "\n",
    "要实现本地 API 封装，我们首先需要安装 fastapi 第三方库："
   ]
  },
  {
   "cell_type": "code",
   "execution_count": null,
   "metadata": {
    "vscode": {
     "languageId": "bat"
    }
   },
   "outputs": [],
   "source": [
    "! pip install fastapi"
   ]
  },
  {
   "cell_type": "markdown",
   "metadata": {},
   "source": [
    "接下来导入第三方库，并创建一个 API 对象："
   ]
  },
  {
   "cell_type": "code",
   "execution_count": 2,
   "metadata": {},
   "outputs": [],
   "source": [
    "from fastapi import FastAPI\n",
    "from pydantic import BaseModel\n",
    "import os\n",
    "\n",
    "app = FastAPI() # 创建 api 对象"
   ]
  },
  {
   "cell_type": "markdown",
   "metadata": {},
   "source": [
    "本地 API 一般通过 POST 方式进行访问，即参数会附加在 POST 请求中，我们需要定义一个数据模型来接收 POST 请求中的数据："
   ]
  },
  {
   "cell_type": "code",
   "execution_count": 3,
   "metadata": {},
   "outputs": [],
   "source": [
    "# 定义一个数据模型，用于接收POST请求中的数据\n",
    "class Item(BaseModel):\n",
    "    prompt : str # 用户 prompt\n",
    "    temperature : float # 温度系数\n",
    "    max_tokens : int # token 上限\n",
    "    if_list : bool = False # 是否多轮对话\n"
   ]
  },
  {
   "cell_type": "markdown",
   "metadata": {},
   "source": [
    "在上面的数据模型中，我们定义了几个常用参数：\n",
    "\n",
    "    · prompt：即用户输入的 Prompt。我们默认为单轮对话调用，因此 prompt 默认为一句输入；如果将 if_list 设置为 True，那么就是多轮对话调用，prompt 应为一个已构造好（即有标准 role、content 格式）的列表字符串\n",
    "\n",
    "    · temperature：温度系数\n",
    "\n",
    "    · max_tokens：回答的最大 token 上限\n",
    "\n",
    "    · if_list：是否多轮对话，默认为 False\n",
    "\n",
    "接下来我们就可以创建一个 POST 请求的 API 端点："
   ]
  },
  {
   "cell_type": "code",
   "execution_count": null,
   "metadata": {},
   "outputs": [],
   "source": [
    "@app.post(\"/spark/\")\n",
    "async def get_spark_response(item: Item):\n",
    "    # 实现星火大模型调用的 API 端点\n",
    "    response = get_spark(item)\n",
    "    return response"
   ]
  },
  {
   "cell_type": "markdown",
   "metadata": {},
   "source": [
    "在上述代码中，我们创建了一个 POST 请求的端点，后续我们每一次请求都会通过这个端点。我们将另外定义一个函数来实现对星火 API 的调用："
   ]
  },
  {
   "cell_type": "code",
   "execution_count": 4,
   "metadata": {},
   "outputs": [],
   "source": [
    "import SparkApiSelf\n",
    "\n",
    "# 首先定义一个构造参数函数\n",
    "def getText(role, content, text = []):\n",
    "    # role 是指定角色，content 是 prompt 内容\n",
    "    jsoncon = {}\n",
    "    jsoncon[\"role\"] = role\n",
    "    jsoncon[\"content\"] = content\n",
    "    text.append(jsoncon)\n",
    "    return text\n",
    "\n",
    "def get_spark(item):\n",
    "    # 配置 spark 秘钥\n",
    "    #以下密钥信息从控制台获取\n",
    "    appid = \"9f922c84\"     #填写控制台中获取的 APPID 信息\n",
    "    api_secret = \"YjU0ODk4MWQ4NTgyNDU5MzNiNWQzZmZm\"   #填写控制台中获取的 APISecret 信息\n",
    "    api_key =\"5d4e6e41f6453936ccc34dd524904324\"    #填写控制台中获取的 APIKey 信息\n",
    "    domain = \"generalv2\"    # v2.0版本\n",
    "    Spark_url = \"ws://spark-api.xf-yun.com/v2.1/chat\"  # v2.0环境的地址\n",
    "\n",
    "    # 构造请求参数\n",
    "    if item.if_list:\n",
    "        prompt = item.prompt\n",
    "    else:\n",
    "        prompt = getText(\"user\", item.prompt)\n",
    "\n",
    "    response = SparkApiSelf.main(appid,api_key,api_secret,Spark_url,domain,prompt, item.temperature, item.max_tokens)\n",
    "    return response"
   ]
  },
  {
   "cell_type": "markdown",
   "metadata": {},
   "source": [
    "注意，由于星火给出的示例 SparkApi 中将 temperature、max_tokens 都进行了封装，我们需要对示例代码进行改写，暴露出这两个参数接口，我们实现了一个新的文件 SparkApiSelf，对其中的改动如下：\n",
    "\n",
    "首先，我们对参数类中新增了 temperature、max_tokens 两个属性："
   ]
  },
  {
   "cell_type": "code",
   "execution_count": null,
   "metadata": {},
   "outputs": [],
   "source": [
    "class Ws_Param(object):\n",
    "    # 初始化\n",
    "    def __init__(self, APPID, APIKey, APISecret, Spark_url):\n",
    "        self.APPID = APPID\n",
    "        self.APIKey = APIKey\n",
    "        self.APISecret = APISecret\n",
    "        self.host = urlparse(Spark_url).netloc\n",
    "        self.path = urlparse(Spark_url).path\n",
    "        self.Spark_url = Spark_url\n",
    "        # 自定义\n",
    "        self.temperature = 0\n",
    "        self.max_tokens = 2048"
   ]
  },
  {
   "cell_type": "markdown",
   "metadata": {},
   "source": [
    "然后在生成请求参数的函数中，增加这两个参数并在构造请求数据时加入参数："
   ]
  },
  {
   "cell_type": "code",
   "execution_count": null,
   "metadata": {},
   "outputs": [],
   "source": [
    "def gen_params(appid, domain,question, temperature, max_tokens):\n",
    "    \"\"\"\n",
    "    通过appid和用户的提问来生成请参数\n",
    "    \"\"\"\n",
    "    data = {\n",
    "        \"header\": {\n",
    "            \"app_id\": appid,\n",
    "            \"uid\": \"1234\"\n",
    "        },\n",
    "        \"parameter\": {\n",
    "            \"chat\": {\n",
    "                \"domain\": domain,\n",
    "                \"random_threshold\": 0.5,\n",
    "                \"max_tokens\": max_tokens,\n",
    "                \"temperature\" : temperature,\n",
    "                \"auditing\": \"default\"\n",
    "            }\n",
    "        },\n",
    "        \"payload\": {\n",
    "            \"message\": {\n",
    "                \"text\": question\n",
    "            }\n",
    "        }\n",
    "    }\n",
    "    return data"
   ]
  },
  {
   "cell_type": "markdown",
   "metadata": {},
   "source": [
    "再在 run 函数中调用生成参数时加入这两个参数："
   ]
  },
  {
   "cell_type": "code",
   "execution_count": null,
   "metadata": {},
   "outputs": [],
   "source": [
    "def run(ws, *args):\n",
    "    data = json.dumps(gen_params(appid=ws.appid, domain= ws.domain,question=ws.question, temperature = ws.temperature, max_tokens = ws.max_tokens))\n",
    "    ws.send(data)"
   ]
  },
  {
   "cell_type": "markdown",
   "metadata": {},
   "source": [
    "最后，由于 WebSocket 是直接打印到终端，但我们需要将最后的结果返回给用户，我们需要修改 main 函数，使用一个队列来装填星火流式输出产生的结果，并最终集成返回给用户："
   ]
  },
  {
   "cell_type": "code",
   "execution_count": null,
   "metadata": {},
   "outputs": [],
   "source": [
    "def main(appid, api_key, api_secret, Spark_url,domain, question, temperature, max_tokens):\n",
    "    # print(\"星火:\")\n",
    "    output_queue = queue.Queue()\n",
    "    def on_message(ws, message):\n",
    "        data = json.loads(message)\n",
    "        code = data['header']['code']\n",
    "        if code != 0:\n",
    "            print(f'请求错误: {code}, {data}')\n",
    "            ws.close()\n",
    "        else:\n",
    "            choices = data[\"payload\"][\"choices\"]\n",
    "            status = choices[\"status\"]\n",
    "            content = choices[\"text\"][0][\"content\"]\n",
    "            # print(content, end='')\n",
    "            # 将输出值放入队列\n",
    "            output_queue.put(content)\n",
    "            if status == 2:\n",
    "                ws.close()\n",
    "\n",
    "    wsParam = Ws_Param(appid, api_key, api_secret, Spark_url)\n",
    "    websocket.enableTrace(False)\n",
    "    wsUrl = wsParam.create_url()\n",
    "    ws = websocket.WebSocketApp(wsUrl, on_message=on_message, on_error=on_error, on_close=on_close, on_open=on_open)\n",
    "    ws.appid = appid\n",
    "    ws.question = question\n",
    "    ws.domain = domain\n",
    "    ws.temperature = temperature\n",
    "    ws.max_tokens = max_tokens\n",
    "    ws.run_forever(sslopt={\"cert_reqs\": ssl.CERT_NONE})\n",
    "    return ''.join([output_queue.get() for _ in range(output_queue.qsize())])"
   ]
  },
  {
   "cell_type": "markdown",
   "metadata": {},
   "source": [
    "完成上述步骤之后，我们的 API 封装就大致完成了。接下来，将上述代码放在一个文件中，再通过 uvicorn 启动 API 即可实现访问，整体代码参见《SparkApiSelf.py》。后续操作参见《4. 调用讯飞星火》。"
   ]
  }
 ],
 "metadata": {
  "kernelspec": {
   "display_name": "zyh_llm",
   "language": "python",
   "name": "python3"
  },
  "language_info": {
   "codemirror_mode": {
    "name": "ipython",
    "version": 3
   },
   "file_extension": ".py",
   "mimetype": "text/x-python",
   "name": "python",
   "nbconvert_exporter": "python",
   "pygments_lexer": "ipython3",
   "version": "3.9.18"
  },
  "orig_nbformat": 4
 },
 "nbformat": 4,
 "nbformat_minor": 2
}
